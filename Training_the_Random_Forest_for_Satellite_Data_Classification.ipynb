{
  "nbformat": 4,
  "nbformat_minor": 0,
  "metadata": {
    "colab": {
      "name": "Training the Random Forest for Satellite Data Classification.ipynb",
      "provenance": [],
      "collapsed_sections": []
    },
    "kernelspec": {
      "name": "python3",
      "display_name": "Python 3"
    }
  },
  "cells": [
    {
      "cell_type": "markdown",
      "metadata": {
        "id": "uoWEkGa9KWsu",
        "colab_type": "text"
      },
      "source": [
        "# Training the Random Forest for Satellite Data Classification\n",
        "\n",
        "Credit: Dr.Nitt TU Band 2020\n",
        "\n",
        "A brief explanation of the RandomForest algorithm comes from the name. Rather than utilize the predictions of a single decision tree, the algorithm will take the ensemble result of a large number of decision trees (a forest of them). The \"Random\" part of the name comes from the term \"bootstrap aggregating\", or \"bagging\". What this means is that each tree within the forest only gets to train on some subset of the full training dataset (the subset is determined by sampling with replacement). The elements of the training data for each tree that are left unseen are held \"out-of-bag\" for estimation of accuracy. Randomness also helps decide which feature input variables are seen at each node in each decision tree. Once all individual trees are fit to the random subset of the training data, using a random set of feature variable at each node, the ensemble of them all is used to give the final prediction.\n",
        "\n",
        "![](https://miro.medium.com/max/1350/1*j4TxWuLiRL-nmjQ89HZMBw.gif)"
      ]
    },
    {
      "cell_type": "code",
      "metadata": {
        "id": "3vD43zebKSZP",
        "colab_type": "code",
        "colab": {}
      },
      "source": [
        "from __future__ import print_function, division\n",
        "\n",
        "import skimage.io as io\n",
        "import numpy as np\n",
        "import os, shutil\n",
        "\n",
        "from sklearn.ensemble import AdaBoostClassifier, RandomForestClassifier, GradientBoostingClassifier, ExtraTreesClassifier\n",
        "from sklearn.externals import joblib\n",
        "import pandas as pd\n",
        "\n",
        "from osgeo import gdal, gdal_array\n",
        "\n",
        "import matplotlib\n",
        "matplotlib.use('agg')\n",
        "import matplotlib.pyplot as plt"
      ],
      "execution_count": null,
      "outputs": []
    },
    {
      "cell_type": "markdown",
      "metadata": {
        "id": "GUhhb8iJLD2-",
        "colab_type": "text"
      },
      "source": [
        "## Preparing the dataset"
      ]
    },
    {
      "cell_type": "code",
      "metadata": {
        "id": "G7CVspnvKqfH",
        "colab_type": "code",
        "colab": {}
      },
      "source": [
        "# set up directory with Image data**\n",
        "rootdir = 'image/'\n",
        "# set path to training data\n",
        "path_pix = 'sample/'\n",
        "# path to model\n",
        "path_model = 'model/'\n",
        "# path to classification result\n",
        "path_class = 'class_out/'\n",
        "# Path result with cmap\n",
        "class_cmap = 'class_out_cmap/'"
      ],
      "execution_count": null,
      "outputs": []
    },
    {
      "cell_type": "code",
      "metadata": {
        "id": "yT6t83njKqhn",
        "colab_type": "code",
        "colab": {}
      },
      "source": [
        "def training():\n",
        "\t# path to image.tif\n",
        "\traster = rootdir + 'ppnmulti4b_img.tif'\n",
        "\t# path to corresponding pixel samples (training data)\n",
        "\tsamples = path_pix + 'ppn_sam.tif'\n",
        "\t\n",
        "\t# read in image raster\n",
        "\timg_ds = io.imread(raster)\n",
        "\t# convert to 16 bit numpy array\n",
        "\timg = np.array(img_ds, dtype='int16')\n",
        "\t\n",
        "\t# do the same with sample pixels\n",
        "\troi_ds = io.imread(samples)\n",
        "\troi = np.array(roi_ds, dtype='int16')\n",
        "\t\n",
        "\t# read in labels\n",
        "\tlabels = np.unique(roi[roi>0])\n",
        "\tprint('The training data include {n} classes: {classes}'.format(n=labels.size, classes=labels))\n",
        "\t\n",
        "\t# compose your X,Y data (dataset - training data)\n",
        "\t#X = img[roi>0]\n",
        "\tX = img[roi>0, :]\n",
        "\tY = roi[roi>0]\n",
        "\t\n",
        "\t# assign class weight (class 1 has the weight 3, etc)\n",
        "\t#weights = {1:1, 2:2, 3:2, 4:3}\n",
        "\t#weights = {1:1, 2:3, 3:1, 4:3, 5:1, 6:1, 7:1}\n",
        "\tweights = {1:2, 2:2, 3:3, 5:1, 6:3, 7:1}\n",
        "\t\n",
        "\t# build random forest classifier\n",
        "\t#rf = RandomForestClassifier(class_weight=weights, n_estimators=200, criterion='gini',  max_depth=20, min_samples_split=4, min_samples_leaf=2, max_features='auto', bootstrap=True, oob_score=True, n_jobs=1, random_state=None, verbose=True)\n",
        "\t#rf = RandomForestClassifier(class_weight=weights, n_estimators=1000, criterion='gini',  max_depth=20, min_samples_split=4, min_samples_leaf=2, max_features='auto', bootstrap=True, oob_score=True, n_jobs=1, random_state=None, verbose=True)\n",
        "\n",
        "\trf = RandomForestClassifier(class_weight=weights, n_estimators=200, criterion='gini', max_depth=20, min_samples_leaf=2, min_samples_split=4, max_features='auto', bootstrap=True, oob_score=True, n_jobs=1, random_state=None, verbose=True)\n",
        "\n",
        "\t# alternatively you may try out a Gradient Boosting Classifier \n",
        "    # It is much less RAM consuming and considers weak training data    \n",
        "\t#rf = GradientBoostingClassifier(n_estimators = 2000, min_samples_leaf = 1, min_samples_split = 4, max_depth = 4, max_features = 'auto', learning_rate = 0.1, subsample = 1, random_state = None, warm_start = True)\n",
        "\n",
        "    # now fit training data with the original dataset\n",
        "    #rf = rf.fit(X,Y)\n",
        "\trf = rf.fit(X,Y)\n",
        "\t\n",
        "\tprint('Our OOB prediction of accuracy is: {oob}%'.format(oob=rf.oob_score_ * 100))\n",
        "\tbands = [1, 2, 3, 4]\n",
        "\n",
        "\tfor b, imp in zip(bands, rf.feature_importances_):\n",
        "\t\tprint('Band {b} importance: {imp}'.format(b=b, imp=imp))\n",
        "\n",
        "\t# Setup a dataframe -- just like R\n",
        "\tdf = pd.DataFrame()\n",
        "\tdf['truth'] = Y\n",
        "\tdf['predict'] = rf.predict(X)\n",
        "\n",
        "\t# Cross-tabulate predictions\n",
        "\tprint(pd.crosstab(df['truth'], df['predict'], margins=True))\n",
        "\t\n",
        "    # export Random Forest / Gradient Boosting Model        \n",
        "\tmodel = path_model + \"model.pkl\"\n",
        "\tjoblib.dump(rf, model)\n",
        "\t\n",
        "\treturn img"
      ],
      "execution_count": null,
      "outputs": []
    },
    {
      "cell_type": "markdown",
      "metadata": {
        "id": "QWJDSnllLr1Q",
        "colab_type": "text"
      },
      "source": [
        "![](https://miro.medium.com/max/700/1*SjeRHukeJZYPOQPe2y-QuQ.jpeg)"
      ]
    },
    {
      "cell_type": "code",
      "metadata": {
        "id": "hY69iWSeKqkq",
        "colab_type": "code",
        "colab": {}
      },
      "source": [
        "img = training()\n",
        "print(\"Training Finished\")"
      ],
      "execution_count": null,
      "outputs": []
    },
    {
      "cell_type": "code",
      "metadata": {
        "id": "hlDnIhdKKqnM",
        "colab_type": "code",
        "colab": {}
      },
      "source": [
        "def classification():\n",
        "\t# path to image.tif\n",
        "\traster = rootdir + 'ppnmulti4b_img.tif'\n",
        "\t# path to corresponding pixel samples (training data)\n",
        "\tsamples = path_pix + 'pnn_sam.tif'\n",
        "\n",
        "    # Read worldfile of original dataset\n",
        "\ttfw_old = str(raster.split(\".tif\")[0]) + \".tfw\"     \n",
        "\n",
        "\t# Read Data    \n",
        "\timg_ds = io.imread(raster)   \n",
        "\timg = np.array(img_ds, dtype='int16')    \n",
        "\n",
        "    # call your random forest model\n",
        "\trf = path_model + \"model.pkl\"   \n",
        "\tclf = joblib.load(rf)\n",
        "\n",
        "    # Classification of array and save as image (3 refers to the number of multitemporal bands in the stack) \n",
        "\tnew_shape = (img.shape[0] * img.shape[1], img.shape[2])\n",
        "\timg_as_array = img[:, :, :4].reshape(new_shape)  # band 0, 1, 2 (1, 2, 3)\n",
        "\tclass_prediction = clf.predict(img_as_array)\n",
        "\tclass_prediction = class_prediction.reshape(img[:, :, 0].shape)\n",
        "\n",
        "    # now export your classificaiton\n",
        "\tclassification = path_class  + \"classification.tif\" \n",
        "\tio.imsave(classification, class_prediction)    \n",
        "\n",
        "    # Assign Worldfile to classified image    \n",
        "\ttfw_new = classification.split(\".tif\")[0] + \".tfw\"   \n",
        "\tshutil.copy(tfw_old, tfw_new)\n",
        "\n",
        "\treturn class_prediction"
      ],
      "execution_count": null,
      "outputs": []
    },
    {
      "cell_type": "markdown",
      "metadata": {
        "id": "tlhZXpKyLdxL",
        "colab_type": "text"
      },
      "source": [
        "![](https://miro.medium.com/max/700/1*w5z0YYvpEBXINh4VUobxOg.gif)"
      ]
    },
    {
      "cell_type": "code",
      "metadata": {
        "id": "a01LIMbaKqp2",
        "colab_type": "code",
        "colab": {}
      },
      "source": [
        "class_prediction = classification()\n",
        "n = class_prediction.max()"
      ],
      "execution_count": null,
      "outputs": []
    },
    {
      "cell_type": "code",
      "metadata": {
        "id": "HAxtAwOyKqsm",
        "colab_type": "code",
        "colab": {}
      },
      "source": [
        "# First setup a 5-4-3 composite\n",
        "def color_stretch(image, index, minmax=(0, 65536)):\n",
        "    colors = image[:, :, index].astype(np.float64)\n",
        "\n",
        "    max_val = minmax[1]\n",
        "    min_val = minmax[0]\n",
        "\n",
        "    # Enforce maximum and minimum values\n",
        "    colors[colors[:, :, :] > max_val] = max_val\n",
        "    colors[colors[:, :, :] < min_val] = min_val\n",
        "\n",
        "    for b in range(colors.shape[2]):\n",
        "        colors[:, :, b] = colors[:, :, b] * 1 / (max_val - min_val)\n",
        "        \n",
        "    return colors"
      ],
      "execution_count": null,
      "outputs": []
    },
    {
      "cell_type": "markdown",
      "metadata": {
        "id": "XEESB5D8Ll0M",
        "colab_type": "text"
      },
      "source": [
        "![](https://miro.medium.com/max/700/1*DP57Bv0fS9oIWP2Bdvm4-A.jpeg)"
      ]
    },
    {
      "cell_type": "code",
      "metadata": {
        "id": "IK9EX0b2K1oN",
        "colab_type": "code",
        "colab": {}
      },
      "source": [
        "img321 = color_stretch(img, [3, 2, 1], (0, 15000))"
      ],
      "execution_count": null,
      "outputs": []
    },
    {
      "cell_type": "code",
      "metadata": {
        "id": "My7Z6X68K1wg",
        "colab_type": "code",
        "colab": {}
      },
      "source": [
        "# Next setup a colormap for our map\n",
        "colors = dict((\n",
        "    (0, (0, 0, 0, 255)),  # Nodata\n",
        "    (1, (0, 0, 255, 255)),  # Ra\n",
        "    (2, (0, 0, 255, 255)),  # Rm\n",
        "    (3, (0, 255, 255, 255)),  # Aa\n",
        "    (4, (127, 0, 255, 255)),  # Bp\n",
        "    (5, (102, 0, 102, 255)),  # Mx\n",
        "\t(6, (255, 0, 0, 255)), # Wa\n",
        "\t(7, (128, 128, 128, 255)) # Urban\n",
        "))"
      ],
      "execution_count": null,
      "outputs": []
    },
    {
      "cell_type": "code",
      "metadata": {
        "id": "VKUgPVTCK1zw",
        "colab_type": "code",
        "colab": {}
      },
      "source": [
        "# Put 0 - 255 as float 0 - 1\n",
        "for k in colors:\n",
        "    v = colors[k]\n",
        "    _v = [_v / 255.0 for _v in v]\n",
        "    colors[k] = _v"
      ],
      "execution_count": null,
      "outputs": []
    },
    {
      "cell_type": "code",
      "metadata": {
        "id": "qlZrKqhoK12f",
        "colab_type": "code",
        "colab": {}
      },
      "source": [
        "index_colors = [colors[key] if key in colors else \n",
        "                (255, 255, 255, 0) for key in range(1, n + 1)]\n",
        "cmap = plt.matplotlib.colors.ListedColormap(index_colors, 'Classification', n)\n",
        "\n",
        "print(index_colors)"
      ],
      "execution_count": null,
      "outputs": []
    },
    {
      "cell_type": "code",
      "metadata": {
        "id": "vUMaJd7mK7Fs",
        "colab_type": "code",
        "colab": {}
      },
      "source": [
        "plt.subplot(121)\n",
        "plt.imshow(img321)\n",
        "\n",
        "plt.subplot(122)\n",
        "plt.imshow(class_prediction, cmap=cmap, interpolation='none')\n",
        "\n",
        "#Save classification\n",
        "classification = class_cmap  + \"classification_cmap.tif\" \n",
        "io.imsave(classification, class_prediction)   \n",
        "\n",
        "# tfw file for cmap result\n",
        "raster = rootdir + 'ppnmulti4b_img.tif'\n",
        "tfw_old = str(raster.split(\".tif\")[0]) + \".tfw\"\n",
        "tfw_new = classification.split(\".tif\")[0] + \".tfw\"   \n",
        "shutil.copy(tfw_old, tfw_new)"
      ],
      "execution_count": null,
      "outputs": []
    },
    {
      "cell_type": "code",
      "metadata": {
        "id": "LnEGZLfAK7Ia",
        "colab_type": "code",
        "colab": {}
      },
      "source": [
        "print(\"Classification finished\")"
      ],
      "execution_count": null,
      "outputs": []
    },
    {
      "cell_type": "code",
      "metadata": {
        "id": "6Fzr0oziK7LS",
        "colab_type": "code",
        "colab": {}
      },
      "source": [
        "plt.show()"
      ],
      "execution_count": null,
      "outputs": []
    },
    {
      "cell_type": "markdown",
      "metadata": {
        "id": "BRn9yhy0L0il",
        "colab_type": "text"
      },
      "source": [
        "![](https://miro.medium.com/max/700/1*Rg1Viw8hYkjmBlL04mTGwA.gif)"
      ]
    },
    {
      "cell_type": "code",
      "metadata": {
        "id": "WT8xsfnfK7Ne",
        "colab_type": "code",
        "colab": {}
      },
      "source": [
        ""
      ],
      "execution_count": null,
      "outputs": []
    },
    {
      "cell_type": "code",
      "metadata": {
        "id": "-8jkWfTuK7Pt",
        "colab_type": "code",
        "colab": {}
      },
      "source": [
        ""
      ],
      "execution_count": null,
      "outputs": []
    }
  ]
}